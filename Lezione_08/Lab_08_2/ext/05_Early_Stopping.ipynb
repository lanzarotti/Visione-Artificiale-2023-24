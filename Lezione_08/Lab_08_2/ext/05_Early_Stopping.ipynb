{
 "cells": [
  {
   "cell_type": "code",
   "execution_count": 1,
   "id": "8bfc6011-9d18-4b6c-bb5e-38bad33d8fc3",
   "metadata": {},
   "outputs": [],
   "source": [
    "import torch\n",
    "import torch.nn as nn\n",
    "import torch.optim as optim\n",
    "from torch.utils.data import DataLoader, TensorDataset\n",
    "from sklearn.datasets import make_classification\n",
    "from sklearn.model_selection import train_test_split"
   ]
  },
  {
   "cell_type": "code",
   "execution_count": 2,
   "id": "3280e660-b8d8-47b4-911d-5dfffc9e96c5",
   "metadata": {},
   "outputs": [],
   "source": [
    "# Generate some random data for classification\n",
    "X, y = make_classification(n_samples=1000, n_features=10, n_classes=2, random_state=42)\n",
    "\n",
    "# Split the data into training and validation sets\n",
    "X_train, X_val, y_train, y_val = train_test_split(X, y, test_size=0.2, random_state=42)\n"
   ]
  },
  {
   "cell_type": "code",
   "execution_count": 3,
   "id": "06186020-989e-499e-9e0e-6e0d735f14e0",
   "metadata": {},
   "outputs": [],
   "source": [
    "# Convert the data to PyTorch tensors and create DataLoader objects\n",
    "train_dataset = TensorDataset(torch.FloatTensor(X_train), torch.LongTensor(y_train))\n",
    "val_dataset = TensorDataset(torch.FloatTensor(X_val), torch.LongTensor(y_val))\n",
    "train_loader = DataLoader(train_dataset, batch_size=32, shuffle=True)\n",
    "val_loader = DataLoader(val_dataset, batch_size=32)"
   ]
  },
  {
   "cell_type": "code",
   "execution_count": 4,
   "id": "016d7e55-0fa4-4e65-a0ad-23d96d6a750b",
   "metadata": {},
   "outputs": [],
   "source": [
    "# Define a simple neural network with one hidden layer\n",
    "class Net(nn.Module):\n",
    "    def __init__(self):\n",
    "        super(Net, self).__init__()\n",
    "        self.fc1 = nn.Linear(10, 5)\n",
    "        self.fc2 = nn.Linear(5, 2)\n",
    "\n",
    "    def forward(self, x):\n",
    "        x = torch.relu(self.fc1(x))\n",
    "        x = self.fc2(x)\n",
    "        return x"
   ]
  },
  {
   "cell_type": "code",
   "execution_count": 5,
   "id": "22d81b60-f870-46e4-ab74-c3ba299e8e30",
   "metadata": {},
   "outputs": [],
   "source": [
    "# Initialize the model and optimizer\n",
    "net = Net()\n",
    "criterion = nn.CrossEntropyLoss()\n",
    "optimizer = optim.Adam(net.parameters(), lr=0.001)"
   ]
  },
  {
   "cell_type": "code",
   "execution_count": 8,
   "id": "8c57f8b9-4076-4fce-9404-39670dbd0431",
   "metadata": {},
   "outputs": [],
   "source": [
    "# Set the number of epochs and early stopping parameters\n",
    "num_epochs = 100\n",
    "patience = 5 #after patience epochs of worse performaces, STOP\n",
    "tolerance = 1e-4 #tollerance over the validation loss \n",
    "\n",
    "# Initialize variables for early stopping\n",
    "best_val_loss = float('inf')\n",
    "n_epochs_no_improvement = 0 #accumulator\n",
    "best_model_weights = None"
   ]
  },
  {
   "cell_type": "code",
   "execution_count": 9,
   "id": "1b5804ea-2895-49c2-b683-074c10389aa8",
   "metadata": {},
   "outputs": [
    {
     "name": "stdout",
     "output_type": "stream",
     "text": [
      "Epoch 0: training loss = 0.4292, validation loss = 0.4563\n",
      "Epoch 1: training loss = 0.4076, validation loss = 0.4389\n",
      "Epoch 2: training loss = 0.3888, validation loss = 0.4243\n",
      "Epoch 3: training loss = 0.3731, validation loss = 0.4127\n",
      "Epoch 4: training loss = 0.3600, validation loss = 0.4022\n",
      "Epoch 5: training loss = 0.3491, validation loss = 0.3948\n",
      "Epoch 6: training loss = 0.3410, validation loss = 0.3880\n",
      "Epoch 7: training loss = 0.3336, validation loss = 0.3830\n",
      "Epoch 8: training loss = 0.3279, validation loss = 0.3788\n",
      "Epoch 9: training loss = 0.3235, validation loss = 0.3768\n",
      "Epoch 10: training loss = 0.3197, validation loss = 0.3740\n",
      "Epoch 11: training loss = 0.3169, validation loss = 0.3706\n",
      "Epoch 12: training loss = 0.3143, validation loss = 0.3710\n",
      "Epoch 13: training loss = 0.3120, validation loss = 0.3690\n",
      "Epoch 14: training loss = 0.3102, validation loss = 0.3686\n",
      "Epoch 15: training loss = 0.3090, validation loss = 0.3671\n",
      "Epoch 16: training loss = 0.3075, validation loss = 0.3664\n",
      "Epoch 17: training loss = 0.3064, validation loss = 0.3661\n",
      "Epoch 18: training loss = 0.3055, validation loss = 0.3657\n",
      "Epoch 19: training loss = 0.3048, validation loss = 0.3661\n",
      "Epoch 20: training loss = 0.3038, validation loss = 0.3658\n",
      "Epoch 21: training loss = 0.3032, validation loss = 0.3658\n",
      "Epoch 22: training loss = 0.3026, validation loss = 0.3636\n",
      "Epoch 23: training loss = 0.3027, validation loss = 0.3658\n",
      "Epoch 24: training loss = 0.3017, validation loss = 0.3637\n",
      "Epoch 25: training loss = 0.3012, validation loss = 0.3638\n",
      "Epoch 26: training loss = 0.3006, validation loss = 0.3642\n",
      "Early stopping after epoch 27\n"
     ]
    }
   ],
   "source": [
    "# Train the model for a fixed number of epochs\n",
    "for epoch in range(num_epochs):\n",
    "\n",
    "    # Train the model on the training set\n",
    "    running_loss = 0.0\n",
    "    for i, data in enumerate(train_loader, 1):\n",
    "        inputs, labels = data\n",
    "        optimizer.zero_grad()\n",
    "        outputs = net(inputs)\n",
    "        loss = criterion(outputs, labels)\n",
    "        loss.backward()\n",
    "        optimizer.step()\n",
    "        running_loss += loss.item()\n",
    "\n",
    "    # Evaluate the model on the validation set\n",
    "    with torch.no_grad():\n",
    "        val_loss = 0.0\n",
    "        for i, data in enumerate(val_loader, 1):\n",
    "            inputs, labels = data\n",
    "            outputs = net(inputs)\n",
    "            loss = criterion(outputs, labels)\n",
    "            val_loss += loss.item()\n",
    "\n",
    "    # Check if the validation loss has improved\n",
    "    if val_loss < best_val_loss - tolerance:   #Early Stopping criterion\n",
    "        best_val_loss = val_loss\n",
    "        n_epochs_no_improvement = 0\n",
    "        best_model_weights = net.state_dict()\n",
    "    else:\n",
    "        n_epochs_no_improvement += 1\n",
    "\n",
    "    # Check if early stopping criteria have been met\n",
    "    if n_epochs_no_improvement >= patience:\n",
    "        print(f\"Early stopping after epoch {epoch}\")\n",
    "        net.load_state_dict(best_model_weights)\n",
    "        break\n",
    "\n",
    "    # Print the training and validation loss for each epoch\n",
    "    print(f\"Epoch {epoch}: training loss = {running_loss / len(train_loader):.4f}, validation loss = {val_loss / len(val_loader):.4f}\")\n"
   ]
  },
  {
   "cell_type": "code",
   "execution_count": null,
   "id": "afe4acb9-46d5-4ead-9d87-32684ae349e7",
   "metadata": {},
   "outputs": [],
   "source": [
    "\n",
    "# Save the final model weights\n",
    "torch.save(net.state_dict(), \"final_model_weights.pt\")\n"
   ]
  }
 ],
 "metadata": {
  "kernelspec": {
   "display_name": "Python 3 (ipykernel)",
   "language": "python",
   "name": "python3"
  },
  "language_info": {
   "codemirror_mode": {
    "name": "ipython",
    "version": 3
   },
   "file_extension": ".py",
   "mimetype": "text/x-python",
   "name": "python",
   "nbconvert_exporter": "python",
   "pygments_lexer": "ipython3",
   "version": "3.10.5"
  }
 },
 "nbformat": 4,
 "nbformat_minor": 5
}
